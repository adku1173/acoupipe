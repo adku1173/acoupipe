{
 "cells": [
  {
   "cell_type": "markdown",
   "metadata": {},
   "source": [
    "\n",
    "Model training with training data generated on the fly\n",
    "=======================================================\n",
    "\n",
    "This example demonstrates how to generate training data on the fly during training.\n",
    "In some cases, data generation speed is fast enough to be used on the fly for model training. \n",
    "\n",
    "Here, the example demonstrates single source model training similar as in [Kuj19]_, but without simulation the time data (dataset2). Instead, the CSM is calculated from the Wishart distributed source power matrix $Q$.\n"
   ]
  },
  {
   "cell_type": "markdown",
   "metadata": {},
   "source": [
    "## Build the dataset generator\n",
    "\n",
    "At first, we manipulate the dataset config to only create single source examples on a smaller grid  of size $51 \\times 51$"
   ]
  },
  {
   "cell_type": "code",
   "execution_count": 5,
   "metadata": {},
   "outputs": [],
   "source": [
    "import os\n",
    "import tensorflow as tf \n",
    "import numpy as np\n",
    "os.environ['TF_CPP_MIN_LOG_LEVEL'] = '3' # change tensorflow log level for doc purposes\n",
    "from acoupipe import Dataset2\n",
    "\n",
    "# training dataset\n",
    "training = Dataset2(\n",
    "        split=\"training\",\n",
    "        max_nsources = 1,\n",
    "        size=100000,\n",
    "        f=1000,\n",
    "        features=[\"sourcemap\"])\n",
    "training.grid.increment = 1/50*training.mics.aperture\n",
    "\n",
    "# validation dataset\n",
    "validation = Dataset2(\n",
    "        split=\"validation\",\n",
    "        max_nsources = 1,\n",
    "        size=100,\n",
    "        f=1000,\n",
    "        features=[\"sourcemap\"])\n",
    "validation.grid.increment = 1/50*validation.mics.aperture\n"
   ]
  },
  {
   "cell_type": "markdown",
   "metadata": {},
   "source": [
    "The TensorFlow dataset API can be used to build a data pipeline from the data generator. Here, batches with 32 source cases are used."
   ]
  },
  {
   "cell_type": "code",
   "execution_count": 6,
   "metadata": {},
   "outputs": [],
   "source": [
    "\n",
    "def yield_features_and_labels(dataset):\n",
    "    for data in dataset.generate():\n",
    "        feature = data['sourcemap'][0]\n",
    "        f_max = feature.max()\n",
    "        feature /= f_max\n",
    "        label = np.concatenate([\n",
    "            data['p2'][:,:,0,0]/f_max,\n",
    "            data['loc'][:2]]).squeeze()\n",
    "        yield (feature,label)\n",
    "\n",
    "# signature of the generator\n",
    "output_signature = (\n",
    "                    tf.TensorSpec(shape=(51,51,1)),\n",
    "                    tf.TensorSpec(shape=(3,)),\n",
    "                    )\n",
    "\n",
    "# build datasets for training and validation\n",
    "training_dataset = tf.data.Dataset.from_generator(lambda: yield_features_and_labels(training),\n",
    "                                         output_signature=output_signature)\n",
    "validation_dataset = tf.data.Dataset.from_generator(lambda: yield_features_and_labels(validation),\n",
    "                                         output_signature=output_signature)\n",
    "\n",
    "training_dataset = training_dataset.batch(16).repeat()\n",
    "validation_dataset = validation_dataset.batch(16)\n"
   ]
  },
  {
   "cell_type": "markdown",
   "metadata": {},
   "source": [
    "Now, one can build the ResNet50V2 model and use the data to fit the model. This may take several hours, depending on the computational infrastructure. "
   ]
  },
  {
   "cell_type": "code",
   "execution_count": 8,
   "metadata": {},
   "outputs": [
    {
     "name": "stderr",
     "output_type": "stream",
     "text": [
      "  1%|          | 701/100000 [00:40<49:45, 33.26it/s]"
     ]
    }
   ],
   "source": [
    "# build model architecture\n",
    "model = tf.keras.Sequential(\n",
    "    tf.keras.applications.resnet_v2.ResNet50V2(\n",
    "    include_top=False,\n",
    "    weights=None,\n",
    "    input_shape=(51,51,1),\n",
    "    ))\n",
    "model.add(tf.keras.layers.Flatten())\n",
    "model.add(tf.keras.layers.Dense(3, activation=None))\n",
    "\n",
    "# compile and fit\n",
    "model.compile(optimizer=tf.optimizers.Adam(1.5*10e-4),loss='mse')\n",
    "model.fit(training_dataset,validation_data=validation_dataset, epochs=25,steps_per_epoch=1000, verbose=0)"
   ]
  },
  {
   "cell_type": "markdown",
   "metadata": {},
   "source": [
    "After successfully training, the model can be used for source characteristic prediction."
   ]
  },
  {
   "cell_type": "code",
   "execution_count": 6,
   "metadata": {},
   "outputs": [],
   "source": []
  },
  {
   "cell_type": "code",
   "execution_count": 17,
   "metadata": {},
   "outputs": [
    {
     "name": "stderr",
     "output_type": "stream",
     "text": [
      " 10%|█         | 10/100 [00:34<04:37,  3.09s/it]"
     ]
    },
    {
     "name": "stdout",
     "output_type": "stream",
     "text": [
      "1/1 [==============================] - 0s 30ms/step\n"
     ]
    },
    {
     "data": {
      "text/plain": [
       "<matplotlib.legend.Legend at 0x7ff770874760>"
      ]
     },
     "execution_count": 17,
     "metadata": {},
     "output_type": "execute_result"
    },
    {
     "data": {
      "image/png": "[encoded data removed]",
      "text/plain": [
       "<Figure size 640x480 with 2 Axes>"
      ]
     },
     "metadata": {},
     "output_type": "display_data"
    }
   ],
   "source": [
    "import matplotlib.pyplot as plt\n",
    "from acoular import L_p\n",
    "\n",
    "# use the first sample from the validation dataset\n",
    "generator = validation.generate()\n",
    "data = next(generator)\n",
    "sourcemap = data['sourcemap']\n",
    "sourcemap /= sourcemap.max()\n",
    "prediction = model.predict(sourcemap)[0]\n",
    "\n",
    "plt.figure()\n",
    "plt.imshow(L_p(sourcemap.squeeze()).T,\n",
    "            vmax=L_p(sourcemap.max()),\n",
    "            vmin=L_p(sourcemap.max())-15,\n",
    "            extent=validation.grid.extend(),\n",
    "            origin=\"lower\")\n",
    "plt.plot(prediction[1],prediction[2],'x',label=\"prediction\")\n",
    "plt.plot(data['loc'][0],data['loc'][1],'x',label=\"label\")\n",
    "plt.colorbar()\n",
    "plt.legend()"
   ]
  },
  {
   "cell_type": "markdown",
   "metadata": {},
   "source": []
  }
 ],
 "metadata": {
  "kernelspec": {
   "display_name": "Python 3.9.15 ('py39')",
   "language": "python",
   "name": "python3"
  },
  "language_info": {
   "codemirror_mode": {
    "name": "ipython",
    "version": 3
   },
   "file_extension": ".py",
   "mimetype": "text/x-python",
   "name": "python",
   "nbconvert_exporter": "python",
   "pygments_lexer": "ipython3",
   "version": "3.9.15"
  },
  "orig_nbformat": 4,
  "vscode": {
   "interpreter": {
    "hash": "8b84133aa5d27198834684dc5cf37286f31547fcb562f18c04d9e25d99e7281e"
   }
  }
 },
 "nbformat": 4,
 "nbformat_minor": 2
}
