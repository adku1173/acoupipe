{
 "cells": [
  {
   "attachments": {},
   "cell_type": "markdown",
   "metadata": {},
   "source": [
    "\n",
    "Model training with training data generated on the fly\n",
    "=======================================================\n",
    "\n",
    "This example demonstrates how to generate training data on the fly during training.\n",
    "Depending on the training situation, data generation speed may be fast enough to incorporate data on the fly for model training. \n",
    "\n",
    "Here, the example demonstrates single source model training similar as in [KHS19], but without simulating the time data (dataset2). Instead, the CSM is sampled according to a complex Wishart distribution.\n"
   ]
  },
  {
   "cell_type": "markdown",
   "metadata": {},
   "source": [
    "## Build the dataset generator\n",
    "\n",
    "At first, we manipulate the dataset config to only create single source examples on a smaller grid  of size $51 \\times 51$"
   ]
  },
  {
   "cell_type": "code",
   "execution_count": 1,
   "metadata": {},
   "outputs": [
    {
     "name": "stderr",
     "output_type": "stream",
     "text": [
      "2023-07-13 15:29:39.437431: I tensorflow/core/platform/cpu_feature_guard.cc:193] This TensorFlow binary is optimized with oneAPI Deep Neural Network Library (oneDNN) to use the following CPU instructions in performance-critical operations:  AVX2 AVX512F AVX512_VNNI FMA\n",
      "To enable them in other operations, rebuild TensorFlow with the appropriate compiler flags.\n",
      "2023-07-13 15:29:39.585171: I tensorflow/core/util/port.cc:104] oneDNN custom operations are on. You may see slightly different numerical results due to floating-point round-off errors from different computation orders. To turn them off, set the environment variable `TF_ENABLE_ONEDNN_OPTS=0`.\n",
      "2023-07-13 15:29:39.588281: W tensorflow/compiler/xla/stream_executor/platform/default/dso_loader.cc:64] Could not load dynamic library 'libcudart.so.11.0'; dlerror: libcudart.so.11.0: cannot open shared object file: No such file or directory\n",
      "2023-07-13 15:29:39.588295: I tensorflow/compiler/xla/stream_executor/cuda/cudart_stub.cc:29] Ignore above cudart dlerror if you do not have a GPU set up on your machine.\n",
      "2023-07-13 15:29:40.244196: W tensorflow/compiler/xla/stream_executor/platform/default/dso_loader.cc:64] Could not load dynamic library 'libnvinfer.so.7'; dlerror: libnvinfer.so.7: cannot open shared object file: No such file or directory\n",
      "2023-07-13 15:29:40.244245: W tensorflow/compiler/xla/stream_executor/platform/default/dso_loader.cc:64] Could not load dynamic library 'libnvinfer_plugin.so.7'; dlerror: libnvinfer_plugin.so.7: cannot open shared object file: No such file or directory\n",
      "2023-07-13 15:29:40.244249: W tensorflow/compiler/tf2tensorrt/utils/py_utils.cc:38] TF-TRT Warning: Cannot dlopen some TensorRT libraries. If you would like to use Nvidia GPU with TensorRT, please make sure the missing libraries mentioned above are installed properly.\n",
      "2023-07-13 15:29:43.787663: W tensorflow/compiler/xla/stream_executor/platform/default/dso_loader.cc:64] Could not load dynamic library 'libcuda.so.1'; dlerror: libcuda.so.1: cannot open shared object file: No such file or directory\n",
      "2023-07-13 15:29:43.787686: W tensorflow/compiler/xla/stream_executor/cuda/cuda_driver.cc:265] failed call to cuInit: UNKNOWN ERROR (303)\n",
      "2023-07-13 15:29:43.787703: I tensorflow/compiler/xla/stream_executor/cuda/cuda_diagnostics.cc:156] kernel driver does not appear to be running on this host (adku): /proc/driver/nvidia/version does not exist\n",
      "2023-07-13 15:29:43.788019: I tensorflow/core/platform/cpu_feature_guard.cc:193] This TensorFlow binary is optimized with oneAPI Deep Neural Network Library (oneDNN) to use the following CPU instructions in performance-critical operations:  AVX2 AVX512F AVX512_VNNI FMA\n",
      "To enable them in other operations, rebuild TensorFlow with the appropriate compiler flags.\n"
     ]
    }
   ],
   "source": [
    "import os\n",
    "import tensorflow as tf \n",
    "import numpy as np\n",
    "os.environ['TF_CPP_MIN_LOG_LEVEL'] = '3' # change tensorflow log level for doc purposes\n",
    "from acoupipe.datasets.dataset2 import Dataset2, DEFAULT_GRID, DEFAULT_MICS\n",
    "\n",
    "DEFAULT_GRID.increment = 1/50*DEFAULT_MICS.aperture\n",
    "\n",
    "# training dataset\n",
    "dataset = Dataset2(max_nsources = 1, f=1000, features=[\"sourcemap\"])       \n",
    "\n",
    "# build datasets for training and validation\n",
    "training_dataset = dataset.get_tf_dataset(split=\"training\",size=100000)\n",
    "validation_dataset = dataset.get_tf_dataset(split=\"validation\",size=10000)"
   ]
  },
  {
   "cell_type": "markdown",
   "metadata": {},
   "source": [
    "The TensorFlow dataset API can be used to build a data pipeline from the data generator. Here, batches with 32 source cases are used."
   ]
  },
  {
   "cell_type": "code",
   "execution_count": 2,
   "metadata": {},
   "outputs": [],
   "source": [
    "\n",
    "def yield_features_and_labels(data):   \n",
    "    feature = data['sourcemap'][0]\n",
    "    f_max = tf.reduce_max(feature)\n",
    "    feature /= f_max\n",
    "    label = tf.concat([data['loc'][:2],data['p2'][:,:,0,0]/f_max],axis=0)\n",
    "    return (feature,label)\n",
    "\n",
    "training_dataset = training_dataset.map(yield_features_and_labels).batch(16).repeat()\n",
    "validation_dataset = validation_dataset.map(yield_features_and_labels).batch(16)\n"
   ]
  },
  {
   "cell_type": "markdown",
   "metadata": {},
   "source": [
    "Now, one can build the ResNet50V2 model and use the data to fit the model. This may take several hours, depending on the computational infrastructure. "
   ]
  },
  {
   "cell_type": "code",
   "execution_count": 3,
   "metadata": {},
   "outputs": [
    {
     "name": "stdout",
     "output_type": "stream",
     "text": [
      "1000/1000 [==============================] - 1271s 1s/step - loss: 0.2949 - val_loss: 0.0312\n"
     ]
    },
    {
     "data": {
      "text/plain": [
       "<keras.callbacks.History at 0x7f76781f8670>"
      ]
     },
     "execution_count": 3,
     "metadata": {},
     "output_type": "execute_result"
    }
   ],
   "source": [
    "# build model architecture\n",
    "model = tf.keras.Sequential(\n",
    "    tf.keras.applications.resnet_v2.ResNet50V2(\n",
    "    include_top=False,\n",
    "    weights=None,\n",
    "    input_shape=(51,51,1),\n",
    "    ))\n",
    "model.add(tf.keras.layers.Flatten())\n",
    "model.add(tf.keras.layers.Dense(3, activation=None))\n",
    "\n",
    "# compile and fit\n",
    "model.compile(optimizer=tf.optimizers.Adam(1.5*10e-4),loss='mse')\n",
    "model.fit(training_dataset,validation_data=validation_dataset, epochs=1,steps_per_epoch=1000)"
   ]
  },
  {
   "cell_type": "markdown",
   "metadata": {},
   "source": [
    "After successfully training, the model can be used for source characteristic prediction."
   ]
  },
  {
   "cell_type": "code",
   "execution_count": 25,
   "metadata": {},
   "outputs": [
    {
     "name": "stdout",
     "output_type": "stream",
     "text": [
      "1/1 [==============================] - 0s 32ms/step\n"
     ]
    },
    {
     "data": {
      "text/plain": [
       "<matplotlib.legend.Legend at 0x7f763da2b730>"
      ]
     },
     "execution_count": 25,
     "metadata": {},
     "output_type": "execute_result"
    },
    {
     "data": {
      "image/png": "[encoded data removed]",
      "text/plain": [
       "<Figure size 640x480 with 2 Axes>"
      ]
     },
     "metadata": {},
     "output_type": "display_data"
    }
   ],
   "source": [
    "import matplotlib.pyplot as plt\n",
    "from acoular import L_p\n",
    "\n",
    "sourcemap, labels = next(iter(validation_dataset))\n",
    "sourcemap = sourcemap[0].numpy()\n",
    "labels = labels[0].numpy()\n",
    "sourcemap /= sourcemap.max()\n",
    "prediction = model.predict(sourcemap[np.newaxis])[0]\n",
    "\n",
    "plt.figure()\n",
    "plt.imshow(L_p(sourcemap.squeeze()).T,\n",
    "            vmax=L_p(sourcemap.max()),\n",
    "            vmin=L_p(sourcemap.max())-15,\n",
    "            extent=DEFAULT_GRID.extend(),\n",
    "            origin=\"lower\")\n",
    "plt.plot(prediction[0],prediction[1],'x',label=\"prediction\")\n",
    "plt.plot(labels[0],labels[1],'x',label=\"label\")\n",
    "plt.colorbar()\n",
    "plt.legend()"
   ]
  },
  {
   "cell_type": "markdown",
   "metadata": {},
   "source": []
  }
 ],
 "metadata": {
  "kernelspec": {
   "display_name": "py39",
   "language": "python",
   "name": "python3"
  },
  "language_info": {
   "codemirror_mode": {
    "name": "ipython",
    "version": 3
   },
   "file_extension": ".py",
   "mimetype": "text/x-python",
   "name": "python",
   "nbconvert_exporter": "python",
   "pygments_lexer": "ipython3",
   "version": "3.9.15"
  },
  "orig_nbformat": 4,
  "vscode": {
   "interpreter": {
    "hash": "8b84133aa5d27198834684dc5cf37286f31547fcb562f18c04d9e25d99e7281e"
   }
  }
 },
 "nbformat": 4,
 "nbformat_minor": 2
}
