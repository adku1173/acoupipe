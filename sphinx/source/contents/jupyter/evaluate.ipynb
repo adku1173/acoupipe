{
 "cells": [
  {
   "attachments": {},
   "cell_type": "markdown",
   "metadata": {},
   "source": [
    "# Evaluate Source Mappings\n"
   ]
  },
  {
   "attachments": {},
   "cell_type": "markdown",
   "metadata": {},
   "source": [
    "Prepare the dataset. Here, the default Beamformer used to generate the sourcemap feature is changed to CLEAN-SC to obtain\n",
    "reasonable integration results.\n"
   ]
  },
  {
   "cell_type": "code",
   "execution_count": 1,
   "metadata": {},
   "outputs": [
    {
     "name": "stderr",
     "output_type": "stream",
     "text": [
      "2023-07-13 15:41:32.615096: I tensorflow/core/platform/cpu_feature_guard.cc:193] This TensorFlow binary is optimized with oneAPI Deep Neural Network Library (oneDNN) to use the following CPU instructions in performance-critical operations:  AVX2 AVX512F AVX512_VNNI FMA\n",
      "To enable them in other operations, rebuild TensorFlow with the appropriate compiler flags.\n",
      "2023-07-13 15:41:32.792710: I tensorflow/core/util/port.cc:104] oneDNN custom operations are on. You may see slightly different numerical results due to floating-point round-off errors from different computation orders. To turn them off, set the environment variable `TF_ENABLE_ONEDNN_OPTS=0`.\n",
      "2023-07-13 15:41:32.797267: W tensorflow/compiler/xla/stream_executor/platform/default/dso_loader.cc:64] Could not load dynamic library 'libcudart.so.11.0'; dlerror: libcudart.so.11.0: cannot open shared object file: No such file or directory\n",
      "2023-07-13 15:41:32.797285: I tensorflow/compiler/xla/stream_executor/cuda/cudart_stub.cc:29] Ignore above cudart dlerror if you do not have a GPU set up on your machine.\n",
      "2023-07-13 15:41:33.808408: W tensorflow/compiler/xla/stream_executor/platform/default/dso_loader.cc:64] Could not load dynamic library 'libnvinfer.so.7'; dlerror: libnvinfer.so.7: cannot open shared object file: No such file or directory\n",
      "2023-07-13 15:41:33.808508: W tensorflow/compiler/xla/stream_executor/platform/default/dso_loader.cc:64] Could not load dynamic library 'libnvinfer_plugin.so.7'; dlerror: libnvinfer_plugin.so.7: cannot open shared object file: No such file or directory\n",
      "2023-07-13 15:41:33.808516: W tensorflow/compiler/tf2tensorrt/utils/py_utils.cc:38] TF-TRT Warning: Cannot dlopen some TensorRT libraries. If you would like to use Nvidia GPU with TensorRT, please make sure the missing libraries mentioned above are installed properly.\n",
      "  0%|\u001b[38;2;31;119;180m          \u001b[0m| 0/1 [00:01<?, ?it/s]\n"
     ]
    }
   ],
   "source": [
    "import os\n",
    "import tensorflow as tf \n",
    "import numpy as np\n",
    "from acoular import BeamformerCleansc, L_p\n",
    "os.environ['TF_CPP_MIN_LOG_LEVEL'] = '1' # change tensorflow log level for doc purposes\n",
    "from acoupipe.datasets.dataset2 import DEFAULT_BEAMFORMER, Dataset2\n",
    "\n",
    "beamformer = BeamformerCleansc(freq_data=DEFAULT_BEAMFORMER.freq_data)\n",
    "\n",
    "# dataset\n",
    "dataset = Dataset2(max_nsources=4, min_nsources=4, f=1000, beamformer=beamformer, features=[\"sourcemap\"])     \n",
    "\n",
    "# get one sample\n",
    "data = next(dataset.generate(split=\"training\", size=1, startsample=5))\n",
    "\n",
    "sourcemap = data[\"sourcemap\"]\n",
    "loc_ref = data[\"loc\"]\n",
    "p2_ref = data[\"p2\"]\n"
   ]
  },
  {
   "attachments": {},
   "cell_type": "markdown",
   "metadata": {},
   "source": [
    "Now use the SourceMapEvaluator class to evaluate different metrics."
   ]
  },
  {
   "cell_type": "code",
   "execution_count": 2,
   "metadata": {},
   "outputs": [],
   "source": [
    "from acoupipe.evaluate import SourceMapEvaluator\n",
    "from acoupipe.datasets.dataset2 import DEFAULT_GRID\n",
    "\n",
    "src_auto_pow = np.diag(p2_ref[0,:,:,0])\n",
    "\n",
    "# prepare to calculate metrics\n",
    "se = SourceMapEvaluator(sourcemap=sourcemap, grid=DEFAULT_GRID, \n",
    "                                target_loc=loc_ref[:2], target_pow=src_auto_pow[np.newaxis], r=0.1,\n",
    "                                variable_sector_radii=True)\n",
    "\n",
    "specific_level_error = se.get_specific_level_error()[0]\n",
    "overall_level_error = se.get_overall_level_error()\n",
    "inverse_level_error = se.get_inverse_level_error()"
   ]
  },
  {
   "cell_type": "code",
   "execution_count": 3,
   "metadata": {},
   "outputs": [
    {
     "ename": "IndexError",
     "evalue": "index 1 is out of bounds for axis 0 with size 1",
     "output_type": "error",
     "traceback": [
      "\u001b[0;31m---------------------------------------------------------------------------\u001b[0m",
      "\u001b[0;31mIndexError\u001b[0m                                Traceback (most recent call last)",
      "Cell \u001b[0;32mIn[3], line 15\u001b[0m\n\u001b[1;32m     13\u001b[0m     l \u001b[39m=\u001b[39m loc_ref[:,j]\n\u001b[1;32m     14\u001b[0m     ax\u001b[39m.\u001b[39madd_patch(plt\u001b[39m.\u001b[39mCircle((l[\u001b[39m0\u001b[39m], l[\u001b[39m1\u001b[39m]), se\u001b[39m.\u001b[39msector_radii[j], color\u001b[39m=\u001b[39m\u001b[39m\"\u001b[39m\u001b[39mblack\u001b[39m\u001b[39m\"\u001b[39m,fill\u001b[39m=\u001b[39m\u001b[39mFalse\u001b[39;00m))\n\u001b[0;32m---> 15\u001b[0m     ax\u001b[39m.\u001b[39mannotate(xycoords\u001b[39m=\u001b[39m\u001b[39m\"\u001b[39m\u001b[39mdata\u001b[39m\u001b[39m\"\u001b[39m,xy\u001b[39m=\u001b[39m(l[\u001b[39m0\u001b[39m],l[\u001b[39m0\u001b[39m]),xytext\u001b[39m=\u001b[39m(l[\u001b[39m0\u001b[39m]\u001b[39m+\u001b[39m\u001b[39m0.02\u001b[39m,l[\u001b[39m1\u001b[39m]),text\u001b[39m=\u001b[39m\u001b[39mr\u001b[39m\u001b[39m\"\u001b[39m\u001b[39m$L_\u001b[39m\u001b[39m{\u001b[39m\u001b[39mp,s}$=\u001b[39m\u001b[39m\"\u001b[39m\u001b[39m+\u001b[39m\u001b[39mf\u001b[39m\u001b[39m\"\u001b[39m\u001b[39m{\u001b[39;00mnp\u001b[39m.\u001b[39mround(specific_level_error[j],\u001b[39m2\u001b[39m)\u001b[39m}\u001b[39;00m\u001b[39m dB\u001b[39m\u001b[39m\"\u001b[39m)\n\u001b[1;32m     16\u001b[0m ax\u001b[39m.\u001b[39mset_xlabel(\u001b[39m\"\u001b[39m\u001b[39mx\u001b[39m\u001b[39m\"\u001b[39m)\n\u001b[1;32m     17\u001b[0m ax\u001b[39m.\u001b[39mset_ylabel(\u001b[39m\"\u001b[39m\u001b[39my\u001b[39m\u001b[39m\"\u001b[39m)\n",
      "\u001b[0;31mIndexError\u001b[0m: index 1 is out of bounds for axis 0 with size 1"
     ]
    },
    {
     "data": {
      "image/png": "[encoded data removed]",
      "text/plain": [
       "<Figure size 800x800 with 1 Axes>"
      ]
     },
     "metadata": {},
     "output_type": "display_data"
    }
   ],
   "source": [
    "import matplotlib.pyplot as plt\n",
    "from mpl_toolkits.axes_grid1 import make_axes_locatable\n",
    "\n",
    "Lm = L_p(sourcemap[0,...,0])\n",
    "\n",
    "fig = plt.figure(1,(8,8))\n",
    "# subplot results\n",
    "ax = fig.add_subplot(111)\n",
    "ax.set_title(r\"Clean-SC, (f=1000 Hz)\")\n",
    "im = ax.imshow(Lm.T,vmax=Lm.max(),vmin=Lm.max()-45,cmap=\"hot_r\",extent=DEFAULT_GRID.extend(),origin=\"lower\")\n",
    "#plot true positions\n",
    "for j in range(loc_ref.shape[-1]):\n",
    "    l = loc_ref[:,j]\n",
    "    ax.add_patch(plt.Circle((l[0], l[1]), se.sector_radii[j], color=\"black\",fill=False))\n",
    "    ax.annotate(xycoords=\"data\",xy=(l[0],l[0]),xytext=(l[0]+0.02,l[1]),text=r\"$L_{p,s}$=\"+f\"{np.round(specific_level_error[j],2)} dB\")\n",
    "ax.set_xlabel(\"x\")\n",
    "ax.set_ylabel(\"y\")\n",
    "divider = make_axes_locatable(ax)\n",
    "cax = divider.append_axes(\n",
    "    position=\"right\", \n",
    "    size=\"5%\", \n",
    "    pad=0.0,)\n",
    "cax.tick_params(direction=\"in\")\n",
    "fig.colorbar(im,cax,label=r\"$L_{p}$/dB\")\n",
    "plt.tight_layout()\n",
    "plt.show()"
   ]
  },
  {
   "cell_type": "code",
   "execution_count": 5,
   "metadata": {},
   "outputs": [
    {
     "data": {
      "text/plain": [
       "(1, 4)"
      ]
     },
     "execution_count": 5,
     "metadata": {},
     "output_type": "execute_result"
    }
   ],
   "source": [
    "specific_level_error.shape"
   ]
  },
  {
   "cell_type": "code",
   "execution_count": null,
   "metadata": {},
   "outputs": [],
   "source": []
  }
 ],
 "metadata": {
  "kernelspec": {
   "display_name": "py39",
   "language": "python",
   "name": "python3"
  },
  "language_info": {
   "codemirror_mode": {
    "name": "ipython",
    "version": 3
   },
   "file_extension": ".py",
   "mimetype": "text/x-python",
   "name": "python",
   "nbconvert_exporter": "python",
   "pygments_lexer": "ipython3",
   "version": "3.9.15"
  },
  "orig_nbformat": 4,
  "vscode": {
   "interpreter": {
    "hash": "8b84133aa5d27198834684dc5cf37286f31547fcb562f18c04d9e25d99e7281e"
   }
  }
 },
 "nbformat": 4,
 "nbformat_minor": 2
}
