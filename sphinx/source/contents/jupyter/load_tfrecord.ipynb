{
 "cells": [
  {
   "cell_type": "markdown",
   "metadata": {},
   "source": [
    "\n",
    "Load datasets stored in .tfrecord file format\n",
    "=======================================\n",
    "\n",
    "This example demonstrates how to load the data from a stored .tfrecord file and to build a \n",
    "data generator."
   ]
  },
  {
   "cell_type": "markdown",
   "metadata": {},
   "source": [
    "At first, a small temporary dataset compounding 5 source cases is created by utilizing Dataset1. The conventional beamforming map is included by specifying `sourcemap` as the desired feature.    "
   ]
  },
  {
   "cell_type": "code",
   "execution_count": 1,
   "metadata": {},
   "outputs": [
    {
     "name": "stderr",
     "output_type": "stream",
     "text": [
      "100%|██████████| 5/5 [00:03<00:00,  1.56it/s]\n"
     ]
    }
   ],
   "source": [
    "import os\n",
    "os.environ['TF_CPP_MIN_LOG_LEVEL'] = '3' # change tensorflow log level for doc purposes\n",
    "from acoupipe import Dataset1\n",
    "\n",
    "# training dataset\n",
    "d1 = Dataset1(\n",
    "        split=\"training\",\n",
    "        size=5,\n",
    "        f=1000,\n",
    "        features=[\"sourcemap\"])\n",
    "\n",
    "# save to .h5 file\n",
    "d1.save_tfrecord(name=\"/tmp/dataset.tfrecord\")"
   ]
  },
  {
   "cell_type": "markdown",
   "metadata": {},
   "source": [
    "To parse the data from TFRecord files it is necessary to write a custom function that parses the file sequentially\n",
    "(see: TFRecord_ documentation for details).\n",
    "\n",
    "A potential parser function for the :code:`'sourcemap'` feature can be similar to:\n"
   ]
  },
  {
   "cell_type": "code",
   "execution_count": 2,
   "metadata": {},
   "outputs": [],
   "source": [
    "\n",
    "def tfrecord_parser(record):\n",
    "    \"\"\" parser for tfrecord datasets with 'csmtriu' feature \"\"\"\n",
    "    parsed = tf.io.parse_single_example(\n",
    "        record, \n",
    "        {\n",
    "        'sourcemap': tf.io.VarLenFeature(tf.float32),\n",
    "        'p2': tf.io.VarLenFeature(tf.float32),\n",
    "        'loc' : tf.io.VarLenFeature(tf.float32),\n",
    "        }\n",
    "    )\n",
    "    sourcemap = tf.reshape(tf.sparse.to_dense(parsed['sourcemap']),shape=(64,64))\n",
    "    p2 = tf.sparse.to_dense(parsed['p2'])\n",
    "    loc = tf.reshape(tf.sparse.to_dense(parsed['loc']),[3,-1])  \n",
    "    return (sourcemap, p2, loc)"
   ]
  },
  {
   "cell_type": "markdown",
   "metadata": {},
   "source": [
    "Now one can load the Dataset with the TensorFlow Dataset API"
   ]
  },
  {
   "cell_type": "code",
   "execution_count": 5,
   "metadata": {},
   "outputs": [
    {
     "ename": "AttributeError",
     "evalue": "EagerTensor object has no attribute 'T'. \n        If you are looking for numpy-related methods, please run the following:\n        from tensorflow.python.ops.numpy_ops import np_config\n        np_config.enable_numpy_behavior()\n      ",
     "output_type": "error",
     "traceback": [
      "\u001b[0;31m---------------------------------------------------------------------------\u001b[0m",
      "\u001b[0;31mAttributeError\u001b[0m                            Traceback (most recent call last)",
      "Cell \u001b[0;32mIn[5], line 13\u001b[0m\n\u001b[1;32m     10\u001b[0m sourcemap, p2, loc \u001b[39m=\u001b[39m \u001b[39mnext\u001b[39m(dataset_iter)\n\u001b[1;32m     12\u001b[0m plt\u001b[39m.\u001b[39mfigure()\n\u001b[0;32m---> 13\u001b[0m plt\u001b[39m.\u001b[39mimshow(sourcemap\u001b[39m.\u001b[39;49mT,extent\u001b[39m=\u001b[39m(\u001b[39m-\u001b[39m\u001b[39m.5\u001b[39m,\u001b[39m.5\u001b[39m,\u001b[39m-\u001b[39m\u001b[39m.5\u001b[39m,\u001b[39m.5\u001b[39m),origin\u001b[39m=\u001b[39m\u001b[39m'\u001b[39m\u001b[39mlower\u001b[39m\u001b[39m'\u001b[39m)\n\u001b[1;32m     14\u001b[0m \u001b[39mfor\u001b[39;00m l \u001b[39min\u001b[39;00m loc[:\u001b[39m2\u001b[39m]\u001b[39m.\u001b[39mnumpy()\u001b[39m.\u001b[39mT:\n\u001b[1;32m     15\u001b[0m     plt\u001b[39m.\u001b[39mplot(l[\u001b[39m0\u001b[39m],l[\u001b[39m1\u001b[39m],\u001b[39m'\u001b[39m\u001b[39mx\u001b[39m\u001b[39m'\u001b[39m)\n",
      "File \u001b[0;32m~/mambaforge/envs/py39/lib/python3.9/site-packages/tensorflow/python/framework/ops.py:438\u001b[0m, in \u001b[0;36mTensor.__getattr__\u001b[0;34m(self, name)\u001b[0m\n\u001b[1;32m    434\u001b[0m \u001b[39mdef\u001b[39;00m \u001b[39m__getattr__\u001b[39m(\u001b[39mself\u001b[39m, name):\n\u001b[1;32m    435\u001b[0m   \u001b[39mif\u001b[39;00m name \u001b[39min\u001b[39;00m {\u001b[39m\"\u001b[39m\u001b[39mT\u001b[39m\u001b[39m\"\u001b[39m, \u001b[39m\"\u001b[39m\u001b[39mastype\u001b[39m\u001b[39m\"\u001b[39m, \u001b[39m\"\u001b[39m\u001b[39mravel\u001b[39m\u001b[39m\"\u001b[39m, \u001b[39m\"\u001b[39m\u001b[39mtranspose\u001b[39m\u001b[39m\"\u001b[39m, \u001b[39m\"\u001b[39m\u001b[39mreshape\u001b[39m\u001b[39m\"\u001b[39m, \u001b[39m\"\u001b[39m\u001b[39mclip\u001b[39m\u001b[39m\"\u001b[39m, \u001b[39m\"\u001b[39m\u001b[39msize\u001b[39m\u001b[39m\"\u001b[39m,\n\u001b[1;32m    436\u001b[0m               \u001b[39m\"\u001b[39m\u001b[39mtolist\u001b[39m\u001b[39m\"\u001b[39m, \u001b[39m\"\u001b[39m\u001b[39mdata\u001b[39m\u001b[39m\"\u001b[39m}:\n\u001b[1;32m    437\u001b[0m     \u001b[39m# TODO(wangpeng): Export the enable_numpy_behavior knob\u001b[39;00m\n\u001b[0;32m--> 438\u001b[0m     \u001b[39mraise\u001b[39;00m \u001b[39mAttributeError\u001b[39;00m(\n\u001b[1;32m    439\u001b[0m         \u001b[39mf\u001b[39m\u001b[39m\"\u001b[39m\u001b[39m{\u001b[39;00m\u001b[39mtype\u001b[39m(\u001b[39mself\u001b[39m)\u001b[39m.\u001b[39m\u001b[39m__name__\u001b[39m\u001b[39m}\u001b[39;00m\u001b[39m object has no attribute \u001b[39m\u001b[39m'\u001b[39m\u001b[39m{\u001b[39;00mname\u001b[39m}\u001b[39;00m\u001b[39m'\u001b[39m\u001b[39m. \u001b[39m\u001b[39m\"\u001b[39m \u001b[39m+\u001b[39m \u001b[39m\"\"\"\u001b[39m\n\u001b[1;32m    440\u001b[0m \u001b[39m      If you are looking for numpy-related methods, please run the following:\u001b[39m\n\u001b[1;32m    441\u001b[0m \u001b[39m      from tensorflow.python.ops.numpy_ops import np_config\u001b[39m\n\u001b[1;32m    442\u001b[0m \u001b[39m      np_config.enable_numpy_behavior()\u001b[39m\n\u001b[1;32m    443\u001b[0m \u001b[39m    \u001b[39m\u001b[39m\"\"\"\u001b[39m)\n\u001b[1;32m    444\u001b[0m   \u001b[39mself\u001b[39m\u001b[39m.\u001b[39m\u001b[39m__getattribute__\u001b[39m(name)\n",
      "\u001b[0;31mAttributeError\u001b[0m: EagerTensor object has no attribute 'T'. \n        If you are looking for numpy-related methods, please run the following:\n        from tensorflow.python.ops.numpy_ops import np_config\n        np_config.enable_numpy_behavior()\n      "
     ]
    },
    {
     "data": {
      "text/plain": [
       "<Figure size 640x480 with 0 Axes>"
      ]
     },
     "metadata": {},
     "output_type": "display_data"
    }
   ],
   "source": [
    "import tensorflow as tf\n",
    "import matplotlib.pyplot as plt\n",
    "\n",
    "\n",
    "dataset = tf.data.TFRecordDataset(\n",
    "    filenames=[\"/tmp/dataset.tfrecord\"],\n",
    ").map(tfrecord_parser)\n",
    "\n",
    "dataset_iter = iter(dataset)\n",
    "sourcemap, p2, loc = next(dataset_iter)\n",
    "\n",
    "plt.figure()\n",
    "plt.imshow(sourcemap.numpy().T,extent=(-.5,.5,-.5,.5),origin='lower')\n",
    "for l in loc[:2].numpy().T:\n",
    "    plt.plot(l[0],l[1],'x')\n",
    "plt.colorbar()"
   ]
  },
  {
   "cell_type": "markdown",
   "metadata": {},
   "source": []
  }
 ],
 "metadata": {
  "kernelspec": {
   "display_name": "Python 3.9.15 ('py39')",
   "language": "python",
   "name": "python3"
  },
  "language_info": {
   "codemirror_mode": {
    "name": "ipython",
    "version": 3
   },
   "file_extension": ".py",
   "mimetype": "text/x-python",
   "name": "python",
   "nbconvert_exporter": "python",
   "pygments_lexer": "ipython3",
   "version": "3.9.15"
  },
  "orig_nbformat": 4,
  "vscode": {
   "interpreter": {
    "hash": "8b84133aa5d27198834684dc5cf37286f31547fcb562f18c04d9e25d99e7281e"
   }
  }
 },
 "nbformat": 4,
 "nbformat_minor": 2
}
